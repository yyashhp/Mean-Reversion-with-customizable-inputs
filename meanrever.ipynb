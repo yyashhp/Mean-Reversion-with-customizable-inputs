{
 "cells": [
  {
   "cell_type": "code",
   "execution_count": 39,
   "id": "199fd0e8",
   "metadata": {},
   "outputs": [],
   "source": [
    "import yfinance as yf\n",
    "import pandas as pd\n",
    "import seaborn as sb\n",
    "import matplotlib.pyplot as plt"
   ]
  },
  {
   "cell_type": "code",
   "execution_count": 21,
   "id": "4d4f8d37",
   "metadata": {},
   "outputs": [
    {
     "name": "stdout",
     "output_type": "stream",
     "text": [
      "[*********************100%***********************]  1 of 1 completed\n"
     ]
    }
   ],
   "source": [
    "df = yf.download(\"^GSPC\", start = \"2015-01-01\")[[\"Adj Close\"]]"
   ]
  },
  {
   "cell_type": "code",
   "execution_count": 22,
   "id": "a63e90db",
   "metadata": {},
   "outputs": [
    {
     "data": {
      "text/html": [
       "<div>\n",
       "<style scoped>\n",
       "    .dataframe tbody tr th:only-of-type {\n",
       "        vertical-align: middle;\n",
       "    }\n",
       "\n",
       "    .dataframe tbody tr th {\n",
       "        vertical-align: top;\n",
       "    }\n",
       "\n",
       "    .dataframe thead th {\n",
       "        text-align: right;\n",
       "    }\n",
       "</style>\n",
       "<table border=\"1\" class=\"dataframe\">\n",
       "  <thead>\n",
       "    <tr style=\"text-align: right;\">\n",
       "      <th></th>\n",
       "      <th>Adj Close</th>\n",
       "    </tr>\n",
       "    <tr>\n",
       "      <th>Date</th>\n",
       "      <th></th>\n",
       "    </tr>\n",
       "  </thead>\n",
       "  <tbody>\n",
       "    <tr>\n",
       "      <th>2015-01-02</th>\n",
       "      <td>2058.199951</td>\n",
       "    </tr>\n",
       "    <tr>\n",
       "      <th>2015-01-05</th>\n",
       "      <td>2020.579956</td>\n",
       "    </tr>\n",
       "    <tr>\n",
       "      <th>2015-01-06</th>\n",
       "      <td>2002.609985</td>\n",
       "    </tr>\n",
       "    <tr>\n",
       "      <th>2015-01-07</th>\n",
       "      <td>2025.900024</td>\n",
       "    </tr>\n",
       "    <tr>\n",
       "      <th>2015-01-08</th>\n",
       "      <td>2062.139893</td>\n",
       "    </tr>\n",
       "    <tr>\n",
       "      <th>...</th>\n",
       "      <td>...</td>\n",
       "    </tr>\n",
       "    <tr>\n",
       "      <th>2022-10-13</th>\n",
       "      <td>3669.909912</td>\n",
       "    </tr>\n",
       "    <tr>\n",
       "      <th>2022-10-14</th>\n",
       "      <td>3583.070068</td>\n",
       "    </tr>\n",
       "    <tr>\n",
       "      <th>2022-10-17</th>\n",
       "      <td>3677.949951</td>\n",
       "    </tr>\n",
       "    <tr>\n",
       "      <th>2022-10-18</th>\n",
       "      <td>3719.979980</td>\n",
       "    </tr>\n",
       "    <tr>\n",
       "      <th>2022-10-19</th>\n",
       "      <td>3695.159912</td>\n",
       "    </tr>\n",
       "  </tbody>\n",
       "</table>\n",
       "<p>1964 rows × 1 columns</p>\n",
       "</div>"
      ],
      "text/plain": [
       "              Adj Close\n",
       "Date                   \n",
       "2015-01-02  2058.199951\n",
       "2015-01-05  2020.579956\n",
       "2015-01-06  2002.609985\n",
       "2015-01-07  2025.900024\n",
       "2015-01-08  2062.139893\n",
       "...                 ...\n",
       "2022-10-13  3669.909912\n",
       "2022-10-14  3583.070068\n",
       "2022-10-17  3677.949951\n",
       "2022-10-18  3719.979980\n",
       "2022-10-19  3695.159912\n",
       "\n",
       "[1964 rows x 1 columns]"
      ]
     },
     "execution_count": 22,
     "metadata": {},
     "output_type": "execute_result"
    }
   ],
   "source": [
    "df"
   ]
  },
  {
   "cell_type": "code",
   "execution_count": 23,
   "id": "18071c3c",
   "metadata": {},
   "outputs": [
    {
     "name": "stdout",
     "output_type": "stream",
     "text": [
      "            Adj Close\n",
      "Date                 \n",
      "2015-01-02        NaN\n",
      "2015-01-05  -0.018278\n",
      "2015-01-06  -0.008893\n",
      "2015-01-07   0.011630\n",
      "2015-01-08   0.017888\n",
      "...               ...\n",
      "2022-10-13   0.025966\n",
      "2022-10-14  -0.023663\n",
      "2022-10-17   0.026480\n",
      "2022-10-18   0.011428\n",
      "2022-10-19  -0.006672\n",
      "\n",
      "[1964 rows x 1 columns]\n"
     ]
    }
   ],
   "source": [
    "df=df.pct_change()\n",
    "print(df)"
   ]
  },
  {
   "cell_type": "code",
   "execution_count": 71,
   "id": "fc4759f4",
   "metadata": {},
   "outputs": [
    {
     "name": "stdout",
     "output_type": "stream",
     "text": [
      "[*********************100%***********************]  1 of 1 completed\n",
      "average positive returns of ^GSPC\n",
      "average safe cut off point, with minimum 0.003 % return\n",
      "0.010412151216720681\n",
      "Line2D(_child1)\n"
     ]
    },
    {
     "data": {
      "image/png": "[encoded data removed]",
      "text/plain": [
       "<Figure size 432x288 with 1 Axes>"
      ]
     },
     "metadata": {
      "needs_background": "light"
     },
     "output_type": "display_data"
    }
   ],
   "source": [
    "def retCut(stock: str, minRet:float)->float:\n",
    "    df = yf.download(stock, start = \"2015-01-01\")[[\"Adj Close\"]]\n",
    "    df=df.pct_change()\n",
    "    print(f\"average positive returns of {stock}\")\n",
    "    df[df>0].plot()\n",
    "    #which values are likely to occur, distribution, range of most values(+ and -), \n",
    "    print(f\"average safe cut off point, with minimum {minRet} % return\" )\n",
    "    print(df[df>minRet].mean()[0])\n",
    "    return plt.axhline(df[df>minRet].mean()[0], color='r')\n",
    "print(retCut(\"^GSPC\",0.003))\n"
   ]
  },
  {
   "cell_type": "code",
   "execution_count": 76,
   "id": "22df2256",
   "metadata": {},
   "outputs": [
    {
     "name": "stdout",
     "output_type": "stream",
     "text": [
      "[*********************100%***********************]  1 of 1 completed\n",
      "average losses of ^GSPC\n",
      "average safe cut off point, with maximum 0.003 % loss\n",
      "-0.011841313364218481\n",
      "Line2D(_child1)\n"
     ]
    },
    {
     "data": {
      "image/png": "[encoded data removed]",
      "text/plain": [
       "<Figure size 432x288 with 1 Axes>"
      ]
     },
     "metadata": {
      "needs_background": "light"
     },
     "output_type": "display_data"
    }
   ],
   "source": [
    "def lossCut(stock: str, maxLoss:float)->float:\n",
    "    df = yf.download(stock, start = \"2015-01-01\")[[\"Adj Close\"]]\n",
    "    df=df.pct_change()\n",
    "    print(f\"average losses of {stock}\")\n",
    "    df[df<0].plot()\n",
    "    #which values are likely to occur, distribution, range of most values(+ and -), \n",
    "    print(f\"average safe cut off point, with maximum {maxLoss} % loss\" )\n",
    "    print(df[df<-maxLoss].mean()[0])\n",
    "    return plt.axhline(df[df<-maxLoss].mean()[0], color='r')\n",
    "print(lossCut(\"^GSPC\",0.003))\n"
   ]
  },
  {
   "cell_type": "code",
   "execution_count": 61,
   "id": "226ffcce",
   "metadata": {},
   "outputs": [
    {
     "data": {
      "text/plain": [
       "0.010412151216720681"
      ]
     },
     "execution_count": 61,
     "metadata": {},
     "output_type": "execute_result"
    }
   ],
   "source": [
    "df[df>0.003].mean()[0]"
   ]
  },
  {
   "cell_type": "code",
   "execution_count": null,
   "id": "fbc010af",
   "metadata": {},
   "outputs": [],
   "source": []
  }
 ],
 "metadata": {
  "kernelspec": {
   "display_name": "Python 3 (ipykernel)",
   "language": "python",
   "name": "python3"
  },
  "language_info": {
   "codemirror_mode": {
    "name": "ipython",
    "version": 3
   },
   "file_extension": ".py",
   "mimetype": "text/x-python",
   "name": "python",
   "nbconvert_exporter": "python",
   "pygments_lexer": "ipython3",
   "version": "3.9.12"
  }
 },
 "nbformat": 4,
 "nbformat_minor": 5
}
